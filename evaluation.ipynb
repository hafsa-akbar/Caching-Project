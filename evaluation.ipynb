{
 "cells": [
  {
   "cell_type": "markdown",
   "metadata": {},
   "source": [
    "## Bytes Saving - Counting Formulation\n",
    "\n",
    "### 1. Average number of ‘useful comparisons’ per category:\n",
    "```math\n",
    "u_{\\%} = \\frac{1}{|C|} \\sum_{C} \\left( \\frac{\\sum_{} (i \\geq t)}{\\sum_{} i} \\right) \\times 100\n",
    "```\n",
    "\n",
    "Where:\n",
    "- C refers to a category\n",
    "- t is the threshold for similarity\n",
    "- $\\sum_{} (i)$ is the total number of comparisons in a category\n",
    "- $\\sum_{} (i >= t)$ is the total number of 'useful comparisons' in a particular category\n",
    "- $\\frac{1}{|C|} \\sum_{C}$ computes the average over all categories\n",
    "\n",
    "### 2. Average number of comparisons per category:\n",
    "```math\n",
    "N = \\frac{1}{|C|} \\sum_{C} {\\sum_{} (i)}\n",
    "````\n",
    "\n",
    "### 3. Average number of ‘useful comparisons’:\n",
    "```math\n",
    "\\text{Avg\\_useful\\_comparisons} = u_{\\%} \\times N\n",
    "````\n",
    "\n",
    "### 4. Number of images in the client’s cache for a category:\n",
    "```math\n",
    "X_C \\quad \\text{or} \\quad \\bar X = \\sum_{C} X_C\n",
    "````\n",
    "\n",
    "Where $X_C$ is the number of cached images in category \\(C\\) and $ \\bar X \\subseteq N $\n",
    "\n",
    "### 5. Bytes saved:\n",
    "```math\n",
    "\\text{Bytes\\_saved} = (2 \\times 10^6)p - 8X\n",
    "````\n",
    "\n",
    "Where:\n",
    "- $p$ is the probability of serving an image from the cache.\n",
    "- Each image is assumed to be 2 MB.\n",
    "- The $8 \\times X$ term corresponds to 64-bit hashes for $X$ images.\n",
    "\n",
    "### 6. Probability $p$:\n",
    "```math\n",
    "p = 1 - \\frac{\\binom{N(1-u)}{X}}{\\binom{N}{X}}\n",
    "````"
   ]
  },
  {
   "cell_type": "code",
   "execution_count": 36,
   "metadata": {},
   "outputs": [],
   "source": [
    "import pandas as pd\n",
    "import os\n",
    "from math import comb\n",
    "import matplotlib.pyplot as plt"
   ]
  },
  {
   "cell_type": "code",
   "execution_count": 16,
   "metadata": {},
   "outputs": [],
   "source": [
    "path = 'true_labels/new'\n",
    "dfs = []\n",
    "\n",
    "for filename in os.listdir(path):\n",
    "    if filename.endswith('.csv'): \n",
    "        file_path = os.path.join(path, filename)\n",
    "        df = pd.read_csv(file_path, index_col=0)\n",
    "        dfs.append(df)"
   ]
  },
  {
   "cell_type": "code",
   "execution_count": 17,
   "metadata": {},
   "outputs": [
    {
     "data": {
      "text/html": [
       "<div>\n",
       "<style scoped>\n",
       "    .dataframe tbody tr th:only-of-type {\n",
       "        vertical-align: middle;\n",
       "    }\n",
       "\n",
       "    .dataframe tbody tr th {\n",
       "        vertical-align: top;\n",
       "    }\n",
       "\n",
       "    .dataframe thead th {\n",
       "        text-align: right;\n",
       "    }\n",
       "</style>\n",
       "<table border=\"1\" class=\"dataframe\">\n",
       "  <thead>\n",
       "    <tr style=\"text-align: right;\">\n",
       "      <th></th>\n",
       "      <th>img_1_0</th>\n",
       "      <th>img_2_0</th>\n",
       "      <th>img_3_0</th>\n",
       "      <th>img_3_1</th>\n",
       "      <th>img_3_2</th>\n",
       "      <th>img_5_0</th>\n",
       "      <th>img_6_0</th>\n",
       "      <th>img_6_1</th>\n",
       "      <th>img_7_0</th>\n",
       "      <th>img_8_0</th>\n",
       "      <th>img_9_0</th>\n",
       "      <th>img_10_0</th>\n",
       "      <th>img_12_0</th>\n",
       "    </tr>\n",
       "  </thead>\n",
       "  <tbody>\n",
       "    <tr>\n",
       "      <th>img_1_0</th>\n",
       "      <td>4</td>\n",
       "      <td>4</td>\n",
       "      <td>0</td>\n",
       "      <td>0</td>\n",
       "      <td>0</td>\n",
       "      <td>0</td>\n",
       "      <td>0</td>\n",
       "      <td>0</td>\n",
       "      <td>0</td>\n",
       "      <td>0</td>\n",
       "      <td>0</td>\n",
       "      <td>0</td>\n",
       "      <td>0</td>\n",
       "    </tr>\n",
       "    <tr>\n",
       "      <th>img_2_0</th>\n",
       "      <td>4</td>\n",
       "      <td>4</td>\n",
       "      <td>0</td>\n",
       "      <td>0</td>\n",
       "      <td>0</td>\n",
       "      <td>0</td>\n",
       "      <td>0</td>\n",
       "      <td>0</td>\n",
       "      <td>0</td>\n",
       "      <td>0</td>\n",
       "      <td>0</td>\n",
       "      <td>0</td>\n",
       "      <td>0</td>\n",
       "    </tr>\n",
       "    <tr>\n",
       "      <th>img_3_0</th>\n",
       "      <td>0</td>\n",
       "      <td>0</td>\n",
       "      <td>4</td>\n",
       "      <td>0</td>\n",
       "      <td>0</td>\n",
       "      <td>0</td>\n",
       "      <td>0</td>\n",
       "      <td>0</td>\n",
       "      <td>0</td>\n",
       "      <td>0</td>\n",
       "      <td>0</td>\n",
       "      <td>0</td>\n",
       "      <td>0</td>\n",
       "    </tr>\n",
       "    <tr>\n",
       "      <th>img_3_1</th>\n",
       "      <td>0</td>\n",
       "      <td>0</td>\n",
       "      <td>0</td>\n",
       "      <td>4</td>\n",
       "      <td>0</td>\n",
       "      <td>0</td>\n",
       "      <td>0</td>\n",
       "      <td>0</td>\n",
       "      <td>0</td>\n",
       "      <td>0</td>\n",
       "      <td>0</td>\n",
       "      <td>0</td>\n",
       "      <td>0</td>\n",
       "    </tr>\n",
       "    <tr>\n",
       "      <th>img_3_2</th>\n",
       "      <td>0</td>\n",
       "      <td>0</td>\n",
       "      <td>0</td>\n",
       "      <td>0</td>\n",
       "      <td>4</td>\n",
       "      <td>0</td>\n",
       "      <td>0</td>\n",
       "      <td>0</td>\n",
       "      <td>0</td>\n",
       "      <td>0</td>\n",
       "      <td>0</td>\n",
       "      <td>0</td>\n",
       "      <td>0</td>\n",
       "    </tr>\n",
       "  </tbody>\n",
       "</table>\n",
       "</div>"
      ],
      "text/plain": [
       "         img_1_0  img_2_0  img_3_0  img_3_1  img_3_2  img_5_0  img_6_0  \\\n",
       "img_1_0        4        4        0        0        0        0        0   \n",
       "img_2_0        4        4        0        0        0        0        0   \n",
       "img_3_0        0        0        4        0        0        0        0   \n",
       "img_3_1        0        0        0        4        0        0        0   \n",
       "img_3_2        0        0        0        0        4        0        0   \n",
       "\n",
       "         img_6_1  img_7_0  img_8_0  img_9_0  img_10_0  img_12_0  \n",
       "img_1_0        0        0        0        0         0         0  \n",
       "img_2_0        0        0        0        0         0         0  \n",
       "img_3_0        0        0        0        0         0         0  \n",
       "img_3_1        0        0        0        0         0         0  \n",
       "img_3_2        0        0        0        0         0         0  "
      ]
     },
     "execution_count": 17,
     "metadata": {},
     "output_type": "execute_result"
    }
   ],
   "source": [
    "dfs[0].head()"
   ]
  },
  {
   "cell_type": "code",
   "execution_count": 18,
   "metadata": {},
   "outputs": [],
   "source": [
    "def extract_comparisons(df, threshold=1):\n",
    "    num_useful_comparisons = 0\n",
    "    total_comparisons = 0\n",
    "\n",
    "    columns = df.columns\n",
    "    for i in range(len(columns)):\n",
    "        for j in range(i+1, len(columns)):\n",
    "            # Ignore comparisons from the same article (i.e. same prefix img_1_*)\n",
    "            if columns[i].split('_')[1] != columns[j].split('_')[1]:\n",
    "                value = df.iloc[i, j]\n",
    "                total_comparisons += 1\n",
    "                if value >= threshold:\n",
    "                    num_useful_comparisons += 1\n",
    "\n",
    "    return num_useful_comparisons, total_comparisons"
   ]
  },
  {
   "cell_type": "code",
   "execution_count": 19,
   "metadata": {},
   "outputs": [],
   "source": [
    "u_list = []\n",
    "N_list = []\n",
    "\n",
    "for df in dfs:\n",
    "    num_useful_comparisons, total_comparisons = extract_comparisons(df)\n",
    "    u_list.append(num_useful_comparisons)\n",
    "    N_list.append(total_comparisons)"
   ]
  },
  {
   "cell_type": "code",
   "execution_count": 29,
   "metadata": {},
   "outputs": [
    {
     "name": "stdout",
     "output_type": "stream",
     "text": [
      "u: 6.56 %\n"
     ]
    }
   ],
   "source": [
    "C = len(u_list)\n",
    "u = (sum([u_list[i]/N_list[i] for i in range(C)]) / C)\n",
    "print(f'u: {u*100:.2f} %')"
   ]
  },
  {
   "cell_type": "code",
   "execution_count": 33,
   "metadata": {},
   "outputs": [
    {
     "name": "stdout",
     "output_type": "stream",
     "text": [
      "N: 139\n"
     ]
    }
   ],
   "source": [
    "N = int(sum(N_list) / C)\n",
    "print(f'N: {N}')"
   ]
  },
  {
   "cell_type": "code",
   "execution_count": 40,
   "metadata": {},
   "outputs": [
    {
     "name": "stdout",
     "output_type": "stream",
     "text": [
      "X: 1, p: 0.0719, Bytes Saved: 143876.89 bytes\n",
      "X: 5, p: 0.3155, Bytes Saved: 630886.31 bytes\n",
      "X: 10, p: 0.5384, Bytes Saved: 1076636.55 bytes\n",
      "X: 15, p: 0.6937, Bytes Saved: 1387216.86 bytes\n",
      "X: 20, p: 0.8003, Bytes Saved: 1600368.79 bytes\n",
      "X: 30, p: 0.9200, Bytes Saved: 1839686.61 bytes\n"
     ]
    }
   ],
   "source": [
    "X_vals = [1,5,10,15,20,30]\n",
    "p_list = []\n",
    "bytes_saved_list = []\n",
    "\n",
    "image_size_bytes = 2 * 10**6 \n",
    "hash_size_bytes = 8  \n",
    "\n",
    "for X in X_vals:\n",
    "    p = 1 - (comb(int(N * (1 - u)), X) / comb(N, X))\n",
    "    p_list.append(p)\n",
    "\n",
    "    bytes_saved = (image_size_bytes * p) - (hash_size_bytes * X)\n",
    "    bytes_saved_list.append(bytes_saved)\n",
    "\n",
    "for i, X in enumerate(X_vals):\n",
    "    print(f\"X: {X}, p: {p_list[i]:.4f}, Bytes Saved: {bytes_saved_list[i]:.2f} bytes\")"
   ]
  },
  {
   "cell_type": "code",
   "execution_count": 45,
   "metadata": {},
   "outputs": [
    {
     "data": {
      "image/png": "[encoded data removed]",
      "text/plain": [
       "<Figure size 576x432 with 1 Axes>"
      ]
     },
     "metadata": {
      "needs_background": "light"
     },
     "output_type": "display_data"
    }
   ],
   "source": [
    "X_values = list(range(0, N)) \n",
    "\n",
    "p_values = []\n",
    "bytes_saved_values = []\n",
    "\n",
    "for X in X_values:\n",
    "    p = 1 - (comb(int(N * (1 - u)), X) / comb(N, X))\n",
    "    p_values.append(p)\n",
    "    bytes_saved = (image_size_bytes * p) - (hash_size_bytes * X)\n",
    "    bytes_saved_values.append(bytes_saved)\n",
    "\n",
    "bytes_saved_values_mb = [value / 10**6 for value in bytes_saved_values]\n",
    "\n",
    "plt.figure(figsize=(8, 6))\n",
    "plt.plot(X_values, bytes_saved_values_mb)\n",
    "plt.title('X vs. Bytes Saved')\n",
    "plt.xlabel('Number of Cached Images Per Category (X)')\n",
    "plt.ylabel('Bytes Saved (MB)')\n",
    "plt.grid(True)\n",
    "plt.show()"
   ]
  }
 ],
 "metadata": {
  "kernelspec": {
   "display_name": "Python 3",
   "language": "python",
   "name": "python3"
  },
  "language_info": {
   "codemirror_mode": {
    "name": "ipython",
    "version": 3
   },
   "file_extension": ".py",
   "mimetype": "text/x-python",
   "name": "python",
   "nbconvert_exporter": "python",
   "pygments_lexer": "ipython3",
   "version": "3.12.1"
  }
 },
 "nbformat": 4,
 "nbformat_minor": 2
}
