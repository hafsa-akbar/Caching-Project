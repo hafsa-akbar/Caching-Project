{
  "nbformat": 4,
  "nbformat_minor": 0,
  "metadata": {
    "colab": {
      "provenance": []
    },
    "kernelspec": {
      "name": "python3",
      "display_name": "Python 3"
    },
    "language_info": {
      "name": "python"
    },
    "widgets": {
      "application/vnd.jupyter.widget-state+json": {
        "836b7741bb6c4f03ae632f33be1ecae7": {
          "model_module": "@jupyter-widgets/controls",
          "model_name": "HBoxModel",
          "model_module_version": "1.5.0",
          "state": {
            "_dom_classes": [],
            "_model_module": "@jupyter-widgets/controls",
            "_model_module_version": "1.5.0",
            "_model_name": "HBoxModel",
            "_view_count": null,
            "_view_module": "@jupyter-widgets/controls",
            "_view_module_version": "1.5.0",
            "_view_name": "HBoxView",
            "box_style": "",
            "children": [
              "IPY_MODEL_f08e7b71c36e445798d6cb963d0a239c",
              "IPY_MODEL_5e55c0144eae422eb1fc8aa6ef5c199c",
              "IPY_MODEL_ada7fc3fa78a4e41a7a283a5924baeea"
            ],
            "layout": "IPY_MODEL_b29641a35dba468e855eb06de9bfdd56"
          }
        },
        "f08e7b71c36e445798d6cb963d0a239c": {
          "model_module": "@jupyter-widgets/controls",
          "model_name": "HTMLModel",
          "model_module_version": "1.5.0",
          "state": {
            "_dom_classes": [],
            "_model_module": "@jupyter-widgets/controls",
            "_model_module_version": "1.5.0",
            "_model_name": "HTMLModel",
            "_view_count": null,
            "_view_module": "@jupyter-widgets/controls",
            "_view_module_version": "1.5.0",
            "_view_name": "HTMLView",
            "description": "",
            "description_tooltip": null,
            "layout": "IPY_MODEL_11cf42392f504d1cb49ce281ab796ab5",
            "placeholder": "​",
            "style": "IPY_MODEL_94943f66d84b40faa4145893b32b776c",
            "value": "vocab.txt: 100%"
          }
        },
        "5e55c0144eae422eb1fc8aa6ef5c199c": {
          "model_module": "@jupyter-widgets/controls",
          "model_name": "FloatProgressModel",
          "model_module_version": "1.5.0",
          "state": {
            "_dom_classes": [],
            "_model_module": "@jupyter-widgets/controls",
            "_model_module_version": "1.5.0",
            "_model_name": "FloatProgressModel",
            "_view_count": null,
            "_view_module": "@jupyter-widgets/controls",
            "_view_module_version": "1.5.0",
            "_view_name": "ProgressView",
            "bar_style": "success",
            "description": "",
            "description_tooltip": null,
            "layout": "IPY_MODEL_1fc493ae12dc4d05ba180c3f3af9180c",
            "max": 231508,
            "min": 0,
            "orientation": "horizontal",
            "style": "IPY_MODEL_b859532b3469490dae4c60fe61d2a959",
            "value": 231508
          }
        },
        "ada7fc3fa78a4e41a7a283a5924baeea": {
          "model_module": "@jupyter-widgets/controls",
          "model_name": "HTMLModel",
          "model_module_version": "1.5.0",
          "state": {
            "_dom_classes": [],
            "_model_module": "@jupyter-widgets/controls",
            "_model_module_version": "1.5.0",
            "_model_name": "HTMLModel",
            "_view_count": null,
            "_view_module": "@jupyter-widgets/controls",
            "_view_module_version": "1.5.0",
            "_view_name": "HTMLView",
            "description": "",
            "description_tooltip": null,
            "layout": "IPY_MODEL_036ec8ece0174097b1e26f1eeb6700d7",
            "placeholder": "​",
            "style": "IPY_MODEL_f5431bd6bcd14e63938c64b724aa75bb",
            "value": " 232k/232k [00:00&lt;00:00, 6.77MB/s]"
          }
        },
        "b29641a35dba468e855eb06de9bfdd56": {
          "model_module": "@jupyter-widgets/base",
          "model_name": "LayoutModel",
          "model_module_version": "1.2.0",
          "state": {
            "_model_module": "@jupyter-widgets/base",
            "_model_module_version": "1.2.0",
            "_model_name": "LayoutModel",
            "_view_count": null,
            "_view_module": "@jupyter-widgets/base",
            "_view_module_version": "1.2.0",
            "_view_name": "LayoutView",
            "align_content": null,
            "align_items": null,
            "align_self": null,
            "border": null,
            "bottom": null,
            "display": null,
            "flex": null,
            "flex_flow": null,
            "grid_area": null,
            "grid_auto_columns": null,
            "grid_auto_flow": null,
            "grid_auto_rows": null,
            "grid_column": null,
            "grid_gap": null,
            "grid_row": null,
            "grid_template_areas": null,
            "grid_template_columns": null,
            "grid_template_rows": null,
            "height": null,
            "justify_content": null,
            "justify_items": null,
            "left": null,
            "margin": null,
            "max_height": null,
            "max_width": null,
            "min_height": null,
            "min_width": null,
            "object_fit": null,
            "object_position": null,
            "order": null,
            "overflow": null,
            "overflow_x": null,
            "overflow_y": null,
            "padding": null,
            "right": null,
            "top": null,
            "visibility": null,
            "width": null
          }
        },
        "11cf42392f504d1cb49ce281ab796ab5": {
          "model_module": "@jupyter-widgets/base",
          "model_name": "LayoutModel",
          "model_module_version": "1.2.0",
          "state": {
            "_model_module": "@jupyter-widgets/base",
            "_model_module_version": "1.2.0",
            "_model_name": "LayoutModel",
            "_view_count": null,
            "_view_module": "@jupyter-widgets/base",
            "_view_module_version": "1.2.0",
            "_view_name": "LayoutView",
            "align_content": null,
            "align_items": null,
            "align_self": null,
            "border": null,
            "bottom": null,
            "display": null,
            "flex": null,
            "flex_flow": null,
            "grid_area": null,
            "grid_auto_columns": null,
            "grid_auto_flow": null,
            "grid_auto_rows": null,
            "grid_column": null,
            "grid_gap": null,
            "grid_row": null,
            "grid_template_areas": null,
            "grid_template_columns": null,
            "grid_template_rows": null,
            "height": null,
            "justify_content": null,
            "justify_items": null,
            "left": null,
            "margin": null,
            "max_height": null,
            "max_width": null,
            "min_height": null,
            "min_width": null,
            "object_fit": null,
            "object_position": null,
            "order": null,
            "overflow": null,
            "overflow_x": null,
            "overflow_y": null,
            "padding": null,
            "right": null,
            "top": null,
            "visibility": null,
            "width": null
          }
        },
        "94943f66d84b40faa4145893b32b776c": {
          "model_module": "@jupyter-widgets/controls",
          "model_name": "DescriptionStyleModel",
          "model_module_version": "1.5.0",
          "state": {
            "_model_module": "@jupyter-widgets/controls",
            "_model_module_version": "1.5.0",
            "_model_name": "DescriptionStyleModel",
            "_view_count": null,
            "_view_module": "@jupyter-widgets/base",
            "_view_module_version": "1.2.0",
            "_view_name": "StyleView",
            "description_width": ""
          }
        },
        "1fc493ae12dc4d05ba180c3f3af9180c": {
          "model_module": "@jupyter-widgets/base",
          "model_name": "LayoutModel",
          "model_module_version": "1.2.0",
          "state": {
            "_model_module": "@jupyter-widgets/base",
            "_model_module_version": "1.2.0",
            "_model_name": "LayoutModel",
            "_view_count": null,
            "_view_module": "@jupyter-widgets/base",
            "_view_module_version": "1.2.0",
            "_view_name": "LayoutView",
            "align_content": null,
            "align_items": null,
            "align_self": null,
            "border": null,
            "bottom": null,
            "display": null,
            "flex": null,
            "flex_flow": null,
            "grid_area": null,
            "grid_auto_columns": null,
            "grid_auto_flow": null,
            "grid_auto_rows": null,
            "grid_column": null,
            "grid_gap": null,
            "grid_row": null,
            "grid_template_areas": null,
            "grid_template_columns": null,
            "grid_template_rows": null,
            "height": null,
            "justify_content": null,
            "justify_items": null,
            "left": null,
            "margin": null,
            "max_height": null,
            "max_width": null,
            "min_height": null,
            "min_width": null,
            "object_fit": null,
            "object_position": null,
            "order": null,
            "overflow": null,
            "overflow_x": null,
            "overflow_y": null,
            "padding": null,
            "right": null,
            "top": null,
            "visibility": null,
            "width": null
          }
        },
        "b859532b3469490dae4c60fe61d2a959": {
          "model_module": "@jupyter-widgets/controls",
          "model_name": "ProgressStyleModel",
          "model_module_version": "1.5.0",
          "state": {
            "_model_module": "@jupyter-widgets/controls",
            "_model_module_version": "1.5.0",
            "_model_name": "ProgressStyleModel",
            "_view_count": null,
            "_view_module": "@jupyter-widgets/base",
            "_view_module_version": "1.2.0",
            "_view_name": "StyleView",
            "bar_color": null,
            "description_width": ""
          }
        },
        "036ec8ece0174097b1e26f1eeb6700d7": {
          "model_module": "@jupyter-widgets/base",
          "model_name": "LayoutModel",
          "model_module_version": "1.2.0",
          "state": {
            "_model_module": "@jupyter-widgets/base",
            "_model_module_version": "1.2.0",
            "_model_name": "LayoutModel",
            "_view_count": null,
            "_view_module": "@jupyter-widgets/base",
            "_view_module_version": "1.2.0",
            "_view_name": "LayoutView",
            "align_content": null,
            "align_items": null,
            "align_self": null,
            "border": null,
            "bottom": null,
            "display": null,
            "flex": null,
            "flex_flow": null,
            "grid_area": null,
            "grid_auto_columns": null,
            "grid_auto_flow": null,
            "grid_auto_rows": null,
            "grid_column": null,
            "grid_gap": null,
            "grid_row": null,
            "grid_template_areas": null,
            "grid_template_columns": null,
            "grid_template_rows": null,
            "height": null,
            "justify_content": null,
            "justify_items": null,
            "left": null,
            "margin": null,
            "max_height": null,
            "max_width": null,
            "min_height": null,
            "min_width": null,
            "object_fit": null,
            "object_position": null,
            "order": null,
            "overflow": null,
            "overflow_x": null,
            "overflow_y": null,
            "padding": null,
            "right": null,
            "top": null,
            "visibility": null,
            "width": null
          }
        },
        "f5431bd6bcd14e63938c64b724aa75bb": {
          "model_module": "@jupyter-widgets/controls",
          "model_name": "DescriptionStyleModel",
          "model_module_version": "1.5.0",
          "state": {
            "_model_module": "@jupyter-widgets/controls",
            "_model_module_version": "1.5.0",
            "_model_name": "DescriptionStyleModel",
            "_view_count": null,
            "_view_module": "@jupyter-widgets/base",
            "_view_module_version": "1.2.0",
            "_view_name": "StyleView",
            "description_width": ""
          }
        },
        "7f2a49fc6e99439f82d32fcc589af7bc": {
          "model_module": "@jupyter-widgets/controls",
          "model_name": "HBoxModel",
          "model_module_version": "1.5.0",
          "state": {
            "_dom_classes": [],
            "_model_module": "@jupyter-widgets/controls",
            "_model_module_version": "1.5.0",
            "_model_name": "HBoxModel",
            "_view_count": null,
            "_view_module": "@jupyter-widgets/controls",
            "_view_module_version": "1.5.0",
            "_view_name": "HBoxView",
            "box_style": "",
            "children": [
              "IPY_MODEL_aecdeb9b799c4ad8839d2bdcd5518b7e",
              "IPY_MODEL_ce63f6e42b524a23a96ecd3de895ce3a",
              "IPY_MODEL_94011880db83484f92f30a4f603d9f74"
            ],
            "layout": "IPY_MODEL_b9401bf336a8430ab8f0ef8f30b90280"
          }
        },
        "aecdeb9b799c4ad8839d2bdcd5518b7e": {
          "model_module": "@jupyter-widgets/controls",
          "model_name": "HTMLModel",
          "model_module_version": "1.5.0",
          "state": {
            "_dom_classes": [],
            "_model_module": "@jupyter-widgets/controls",
            "_model_module_version": "1.5.0",
            "_model_name": "HTMLModel",
            "_view_count": null,
            "_view_module": "@jupyter-widgets/controls",
            "_view_module_version": "1.5.0",
            "_view_name": "HTMLView",
            "description": "",
            "description_tooltip": null,
            "layout": "IPY_MODEL_85d129bac200422cb9cb8621052ae7d8",
            "placeholder": "​",
            "style": "IPY_MODEL_47d7bed96c044687973092a8e564719f",
            "value": "tokenizer_config.json: 100%"
          }
        },
        "ce63f6e42b524a23a96ecd3de895ce3a": {
          "model_module": "@jupyter-widgets/controls",
          "model_name": "FloatProgressModel",
          "model_module_version": "1.5.0",
          "state": {
            "_dom_classes": [],
            "_model_module": "@jupyter-widgets/controls",
            "_model_module_version": "1.5.0",
            "_model_name": "FloatProgressModel",
            "_view_count": null,
            "_view_module": "@jupyter-widgets/controls",
            "_view_module_version": "1.5.0",
            "_view_name": "ProgressView",
            "bar_style": "success",
            "description": "",
            "description_tooltip": null,
            "layout": "IPY_MODEL_aacb204e7d82465b9dd442b84a471a96",
            "max": 48,
            "min": 0,
            "orientation": "horizontal",
            "style": "IPY_MODEL_3dbb7760a69e4a709f6a6efaf6b5ecbb",
            "value": 48
          }
        },
        "94011880db83484f92f30a4f603d9f74": {
          "model_module": "@jupyter-widgets/controls",
          "model_name": "HTMLModel",
          "model_module_version": "1.5.0",
          "state": {
            "_dom_classes": [],
            "_model_module": "@jupyter-widgets/controls",
            "_model_module_version": "1.5.0",
            "_model_name": "HTMLModel",
            "_view_count": null,
            "_view_module": "@jupyter-widgets/controls",
            "_view_module_version": "1.5.0",
            "_view_name": "HTMLView",
            "description": "",
            "description_tooltip": null,
            "layout": "IPY_MODEL_6fcd6abc412b4d268a3730e9d71eb30c",
            "placeholder": "​",
            "style": "IPY_MODEL_ffab14a7e35e40dd88d89711d52c8ed4",
            "value": " 48.0/48.0 [00:00&lt;00:00, 3.18kB/s]"
          }
        },
        "b9401bf336a8430ab8f0ef8f30b90280": {
          "model_module": "@jupyter-widgets/base",
          "model_name": "LayoutModel",
          "model_module_version": "1.2.0",
          "state": {
            "_model_module": "@jupyter-widgets/base",
            "_model_module_version": "1.2.0",
            "_model_name": "LayoutModel",
            "_view_count": null,
            "_view_module": "@jupyter-widgets/base",
            "_view_module_version": "1.2.0",
            "_view_name": "LayoutView",
            "align_content": null,
            "align_items": null,
            "align_self": null,
            "border": null,
            "bottom": null,
            "display": null,
            "flex": null,
            "flex_flow": null,
            "grid_area": null,
            "grid_auto_columns": null,
            "grid_auto_flow": null,
            "grid_auto_rows": null,
            "grid_column": null,
            "grid_gap": null,
            "grid_row": null,
            "grid_template_areas": null,
            "grid_template_columns": null,
            "grid_template_rows": null,
            "height": null,
            "justify_content": null,
            "justify_items": null,
            "left": null,
            "margin": null,
            "max_height": null,
            "max_width": null,
            "min_height": null,
            "min_width": null,
            "object_fit": null,
            "object_position": null,
            "order": null,
            "overflow": null,
            "overflow_x": null,
            "overflow_y": null,
            "padding": null,
            "right": null,
            "top": null,
            "visibility": null,
            "width": null
          }
        },
        "85d129bac200422cb9cb8621052ae7d8": {
          "model_module": "@jupyter-widgets/base",
          "model_name": "LayoutModel",
          "model_module_version": "1.2.0",
          "state": {
            "_model_module": "@jupyter-widgets/base",
            "_model_module_version": "1.2.0",
            "_model_name": "LayoutModel",
            "_view_count": null,
            "_view_module": "@jupyter-widgets/base",
            "_view_module_version": "1.2.0",
            "_view_name": "LayoutView",
            "align_content": null,
            "align_items": null,
            "align_self": null,
            "border": null,
            "bottom": null,
            "display": null,
            "flex": null,
            "flex_flow": null,
            "grid_area": null,
            "grid_auto_columns": null,
            "grid_auto_flow": null,
            "grid_auto_rows": null,
            "grid_column": null,
            "grid_gap": null,
            "grid_row": null,
            "grid_template_areas": null,
            "grid_template_columns": null,
            "grid_template_rows": null,
            "height": null,
            "justify_content": null,
            "justify_items": null,
            "left": null,
            "margin": null,
            "max_height": null,
            "max_width": null,
            "min_height": null,
            "min_width": null,
            "object_fit": null,
            "object_position": null,
            "order": null,
            "overflow": null,
            "overflow_x": null,
            "overflow_y": null,
            "padding": null,
            "right": null,
            "top": null,
            "visibility": null,
            "width": null
          }
        },
        "47d7bed96c044687973092a8e564719f": {
          "model_module": "@jupyter-widgets/controls",
          "model_name": "DescriptionStyleModel",
          "model_module_version": "1.5.0",
          "state": {
            "_model_module": "@jupyter-widgets/controls",
            "_model_module_version": "1.5.0",
            "_model_name": "DescriptionStyleModel",
            "_view_count": null,
            "_view_module": "@jupyter-widgets/base",
            "_view_module_version": "1.2.0",
            "_view_name": "StyleView",
            "description_width": ""
          }
        },
        "aacb204e7d82465b9dd442b84a471a96": {
          "model_module": "@jupyter-widgets/base",
          "model_name": "LayoutModel",
          "model_module_version": "1.2.0",
          "state": {
            "_model_module": "@jupyter-widgets/base",
            "_model_module_version": "1.2.0",
            "_model_name": "LayoutModel",
            "_view_count": null,
            "_view_module": "@jupyter-widgets/base",
            "_view_module_version": "1.2.0",
            "_view_name": "LayoutView",
            "align_content": null,
            "align_items": null,
            "align_self": null,
            "border": null,
            "bottom": null,
            "display": null,
            "flex": null,
            "flex_flow": null,
            "grid_area": null,
            "grid_auto_columns": null,
            "grid_auto_flow": null,
            "grid_auto_rows": null,
            "grid_column": null,
            "grid_gap": null,
            "grid_row": null,
            "grid_template_areas": null,
            "grid_template_columns": null,
            "grid_template_rows": null,
            "height": null,
            "justify_content": null,
            "justify_items": null,
            "left": null,
            "margin": null,
            "max_height": null,
            "max_width": null,
            "min_height": null,
            "min_width": null,
            "object_fit": null,
            "object_position": null,
            "order": null,
            "overflow": null,
            "overflow_x": null,
            "overflow_y": null,
            "padding": null,
            "right": null,
            "top": null,
            "visibility": null,
            "width": null
          }
        },
        "3dbb7760a69e4a709f6a6efaf6b5ecbb": {
          "model_module": "@jupyter-widgets/controls",
          "model_name": "ProgressStyleModel",
          "model_module_version": "1.5.0",
          "state": {
            "_model_module": "@jupyter-widgets/controls",
            "_model_module_version": "1.5.0",
            "_model_name": "ProgressStyleModel",
            "_view_count": null,
            "_view_module": "@jupyter-widgets/base",
            "_view_module_version": "1.2.0",
            "_view_name": "StyleView",
            "bar_color": null,
            "description_width": ""
          }
        },
        "6fcd6abc412b4d268a3730e9d71eb30c": {
          "model_module": "@jupyter-widgets/base",
          "model_name": "LayoutModel",
          "model_module_version": "1.2.0",
          "state": {
            "_model_module": "@jupyter-widgets/base",
            "_model_module_version": "1.2.0",
            "_model_name": "LayoutModel",
            "_view_count": null,
            "_view_module": "@jupyter-widgets/base",
            "_view_module_version": "1.2.0",
            "_view_name": "LayoutView",
            "align_content": null,
            "align_items": null,
            "align_self": null,
            "border": null,
            "bottom": null,
            "display": null,
            "flex": null,
            "flex_flow": null,
            "grid_area": null,
            "grid_auto_columns": null,
            "grid_auto_flow": null,
            "grid_auto_rows": null,
            "grid_column": null,
            "grid_gap": null,
            "grid_row": null,
            "grid_template_areas": null,
            "grid_template_columns": null,
            "grid_template_rows": null,
            "height": null,
            "justify_content": null,
            "justify_items": null,
            "left": null,
            "margin": null,
            "max_height": null,
            "max_width": null,
            "min_height": null,
            "min_width": null,
            "object_fit": null,
            "object_position": null,
            "order": null,
            "overflow": null,
            "overflow_x": null,
            "overflow_y": null,
            "padding": null,
            "right": null,
            "top": null,
            "visibility": null,
            "width": null
          }
        },
        "ffab14a7e35e40dd88d89711d52c8ed4": {
          "model_module": "@jupyter-widgets/controls",
          "model_name": "DescriptionStyleModel",
          "model_module_version": "1.5.0",
          "state": {
            "_model_module": "@jupyter-widgets/controls",
            "_model_module_version": "1.5.0",
            "_model_name": "DescriptionStyleModel",
            "_view_count": null,
            "_view_module": "@jupyter-widgets/base",
            "_view_module_version": "1.2.0",
            "_view_name": "StyleView",
            "description_width": ""
          }
        },
        "212b006857cb486585dd07dad2d1a7a8": {
          "model_module": "@jupyter-widgets/controls",
          "model_name": "HBoxModel",
          "model_module_version": "1.5.0",
          "state": {
            "_dom_classes": [],
            "_model_module": "@jupyter-widgets/controls",
            "_model_module_version": "1.5.0",
            "_model_name": "HBoxModel",
            "_view_count": null,
            "_view_module": "@jupyter-widgets/controls",
            "_view_module_version": "1.5.0",
            "_view_name": "HBoxView",
            "box_style": "",
            "children": [
              "IPY_MODEL_8771a15eed88444a920d8ccca6a53adf",
              "IPY_MODEL_2265f34a3ad3440a8c4800514c903e1c",
              "IPY_MODEL_e2ce79b99a6a465d8465bb7b3535c6d4"
            ],
            "layout": "IPY_MODEL_752a37ff0d5d4ec396ae5a7ceff9b287"
          }
        },
        "8771a15eed88444a920d8ccca6a53adf": {
          "model_module": "@jupyter-widgets/controls",
          "model_name": "HTMLModel",
          "model_module_version": "1.5.0",
          "state": {
            "_dom_classes": [],
            "_model_module": "@jupyter-widgets/controls",
            "_model_module_version": "1.5.0",
            "_model_name": "HTMLModel",
            "_view_count": null,
            "_view_module": "@jupyter-widgets/controls",
            "_view_module_version": "1.5.0",
            "_view_name": "HTMLView",
            "description": "",
            "description_tooltip": null,
            "layout": "IPY_MODEL_4c0543031ba944168b7491cb8b8aa243",
            "placeholder": "​",
            "style": "IPY_MODEL_2350274db69d43dfa092f52d0969336a",
            "value": "config.json: 100%"
          }
        },
        "2265f34a3ad3440a8c4800514c903e1c": {
          "model_module": "@jupyter-widgets/controls",
          "model_name": "FloatProgressModel",
          "model_module_version": "1.5.0",
          "state": {
            "_dom_classes": [],
            "_model_module": "@jupyter-widgets/controls",
            "_model_module_version": "1.5.0",
            "_model_name": "FloatProgressModel",
            "_view_count": null,
            "_view_module": "@jupyter-widgets/controls",
            "_view_module_version": "1.5.0",
            "_view_name": "ProgressView",
            "bar_style": "success",
            "description": "",
            "description_tooltip": null,
            "layout": "IPY_MODEL_946d9bf10a9046508a7398e32e079f49",
            "max": 570,
            "min": 0,
            "orientation": "horizontal",
            "style": "IPY_MODEL_57567f1d294c4d3a87a4e39ab2668d72",
            "value": 570
          }
        },
        "e2ce79b99a6a465d8465bb7b3535c6d4": {
          "model_module": "@jupyter-widgets/controls",
          "model_name": "HTMLModel",
          "model_module_version": "1.5.0",
          "state": {
            "_dom_classes": [],
            "_model_module": "@jupyter-widgets/controls",
            "_model_module_version": "1.5.0",
            "_model_name": "HTMLModel",
            "_view_count": null,
            "_view_module": "@jupyter-widgets/controls",
            "_view_module_version": "1.5.0",
            "_view_name": "HTMLView",
            "description": "",
            "description_tooltip": null,
            "layout": "IPY_MODEL_a222ae2737da44fcbd4b981d052e7bc8",
            "placeholder": "​",
            "style": "IPY_MODEL_993ec007138c49ce9dad7eb34c9fc20c",
            "value": " 570/570 [00:00&lt;00:00, 26.5kB/s]"
          }
        },
        "752a37ff0d5d4ec396ae5a7ceff9b287": {
          "model_module": "@jupyter-widgets/base",
          "model_name": "LayoutModel",
          "model_module_version": "1.2.0",
          "state": {
            "_model_module": "@jupyter-widgets/base",
            "_model_module_version": "1.2.0",
            "_model_name": "LayoutModel",
            "_view_count": null,
            "_view_module": "@jupyter-widgets/base",
            "_view_module_version": "1.2.0",
            "_view_name": "LayoutView",
            "align_content": null,
            "align_items": null,
            "align_self": null,
            "border": null,
            "bottom": null,
            "display": null,
            "flex": null,
            "flex_flow": null,
            "grid_area": null,
            "grid_auto_columns": null,
            "grid_auto_flow": null,
            "grid_auto_rows": null,
            "grid_column": null,
            "grid_gap": null,
            "grid_row": null,
            "grid_template_areas": null,
            "grid_template_columns": null,
            "grid_template_rows": null,
            "height": null,
            "justify_content": null,
            "justify_items": null,
            "left": null,
            "margin": null,
            "max_height": null,
            "max_width": null,
            "min_height": null,
            "min_width": null,
            "object_fit": null,
            "object_position": null,
            "order": null,
            "overflow": null,
            "overflow_x": null,
            "overflow_y": null,
            "padding": null,
            "right": null,
            "top": null,
            "visibility": null,
            "width": null
          }
        },
        "4c0543031ba944168b7491cb8b8aa243": {
          "model_module": "@jupyter-widgets/base",
          "model_name": "LayoutModel",
          "model_module_version": "1.2.0",
          "state": {
            "_model_module": "@jupyter-widgets/base",
            "_model_module_version": "1.2.0",
            "_model_name": "LayoutModel",
            "_view_count": null,
            "_view_module": "@jupyter-widgets/base",
            "_view_module_version": "1.2.0",
            "_view_name": "LayoutView",
            "align_content": null,
            "align_items": null,
            "align_self": null,
            "border": null,
            "bottom": null,
            "display": null,
            "flex": null,
            "flex_flow": null,
            "grid_area": null,
            "grid_auto_columns": null,
            "grid_auto_flow": null,
            "grid_auto_rows": null,
            "grid_column": null,
            "grid_gap": null,
            "grid_row": null,
            "grid_template_areas": null,
            "grid_template_columns": null,
            "grid_template_rows": null,
            "height": null,
            "justify_content": null,
            "justify_items": null,
            "left": null,
            "margin": null,
            "max_height": null,
            "max_width": null,
            "min_height": null,
            "min_width": null,
            "object_fit": null,
            "object_position": null,
            "order": null,
            "overflow": null,
            "overflow_x": null,
            "overflow_y": null,
            "padding": null,
            "right": null,
            "top": null,
            "visibility": null,
            "width": null
          }
        },
        "2350274db69d43dfa092f52d0969336a": {
          "model_module": "@jupyter-widgets/controls",
          "model_name": "DescriptionStyleModel",
          "model_module_version": "1.5.0",
          "state": {
            "_model_module": "@jupyter-widgets/controls",
            "_model_module_version": "1.5.0",
            "_model_name": "DescriptionStyleModel",
            "_view_count": null,
            "_view_module": "@jupyter-widgets/base",
            "_view_module_version": "1.2.0",
            "_view_name": "StyleView",
            "description_width": ""
          }
        },
        "946d9bf10a9046508a7398e32e079f49": {
          "model_module": "@jupyter-widgets/base",
          "model_name": "LayoutModel",
          "model_module_version": "1.2.0",
          "state": {
            "_model_module": "@jupyter-widgets/base",
            "_model_module_version": "1.2.0",
            "_model_name": "LayoutModel",
            "_view_count": null,
            "_view_module": "@jupyter-widgets/base",
            "_view_module_version": "1.2.0",
            "_view_name": "LayoutView",
            "align_content": null,
            "align_items": null,
            "align_self": null,
            "border": null,
            "bottom": null,
            "display": null,
            "flex": null,
            "flex_flow": null,
            "grid_area": null,
            "grid_auto_columns": null,
            "grid_auto_flow": null,
            "grid_auto_rows": null,
            "grid_column": null,
            "grid_gap": null,
            "grid_row": null,
            "grid_template_areas": null,
            "grid_template_columns": null,
            "grid_template_rows": null,
            "height": null,
            "justify_content": null,
            "justify_items": null,
            "left": null,
            "margin": null,
            "max_height": null,
            "max_width": null,
            "min_height": null,
            "min_width": null,
            "object_fit": null,
            "object_position": null,
            "order": null,
            "overflow": null,
            "overflow_x": null,
            "overflow_y": null,
            "padding": null,
            "right": null,
            "top": null,
            "visibility": null,
            "width": null
          }
        },
        "57567f1d294c4d3a87a4e39ab2668d72": {
          "model_module": "@jupyter-widgets/controls",
          "model_name": "ProgressStyleModel",
          "model_module_version": "1.5.0",
          "state": {
            "_model_module": "@jupyter-widgets/controls",
            "_model_module_version": "1.5.0",
            "_model_name": "ProgressStyleModel",
            "_view_count": null,
            "_view_module": "@jupyter-widgets/base",
            "_view_module_version": "1.2.0",
            "_view_name": "StyleView",
            "bar_color": null,
            "description_width": ""
          }
        },
        "a222ae2737da44fcbd4b981d052e7bc8": {
          "model_module": "@jupyter-widgets/base",
          "model_name": "LayoutModel",
          "model_module_version": "1.2.0",
          "state": {
            "_model_module": "@jupyter-widgets/base",
            "_model_module_version": "1.2.0",
            "_model_name": "LayoutModel",
            "_view_count": null,
            "_view_module": "@jupyter-widgets/base",
            "_view_module_version": "1.2.0",
            "_view_name": "LayoutView",
            "align_content": null,
            "align_items": null,
            "align_self": null,
            "border": null,
            "bottom": null,
            "display": null,
            "flex": null,
            "flex_flow": null,
            "grid_area": null,
            "grid_auto_columns": null,
            "grid_auto_flow": null,
            "grid_auto_rows": null,
            "grid_column": null,
            "grid_gap": null,
            "grid_row": null,
            "grid_template_areas": null,
            "grid_template_columns": null,
            "grid_template_rows": null,
            "height": null,
            "justify_content": null,
            "justify_items": null,
            "left": null,
            "margin": null,
            "max_height": null,
            "max_width": null,
            "min_height": null,
            "min_width": null,
            "object_fit": null,
            "object_position": null,
            "order": null,
            "overflow": null,
            "overflow_x": null,
            "overflow_y": null,
            "padding": null,
            "right": null,
            "top": null,
            "visibility": null,
            "width": null
          }
        },
        "993ec007138c49ce9dad7eb34c9fc20c": {
          "model_module": "@jupyter-widgets/controls",
          "model_name": "DescriptionStyleModel",
          "model_module_version": "1.5.0",
          "state": {
            "_model_module": "@jupyter-widgets/controls",
            "_model_module_version": "1.5.0",
            "_model_name": "DescriptionStyleModel",
            "_view_count": null,
            "_view_module": "@jupyter-widgets/base",
            "_view_module_version": "1.2.0",
            "_view_name": "StyleView",
            "description_width": ""
          }
        }
      }
    }
  },
  "cells": [
    {
      "cell_type": "code",
      "execution_count": 1,
      "metadata": {
        "id": "dVeOKpnGNL1K"
      },
      "outputs": [],
      "source": [
        "from transformers import AutoProcessor, AutoModelForCausalLM\n",
        "import requests\n",
        "import torch\n",
        "from PIL import Image\n",
        "from tqdm import tqdm\n",
        "import pandas as pd\n",
        "import os\n",
        "from IPython.display import display, HTML"
      ]
    },
    {
      "cell_type": "code",
      "source": [
        "# pip install salesforce-lavis"
      ],
      "metadata": {
        "id": "drnTtZhcTJyI"
      },
      "execution_count": 12,
      "outputs": []
    },
    {
      "cell_type": "code",
      "source": [
        "import torch\n",
        "from PIL import Image\n",
        "from lavis.models import load_model_and_preprocess\n",
        "# setup device to use\n",
        "device = torch.device(\"cuda\") if torch.cuda.is_available() else \"cpu\"\n",
        "# load sample image\n",
        "#raw_image = Image.open(\"../../docs/_static/merlion.png\").convert(\"RGB\")\n",
        "#display(raw_image.resize((596, 437)))\n"
      ],
      "metadata": {
        "id": "2er5WZudO8KA"
      },
      "execution_count": 2,
      "outputs": []
    },
    {
      "cell_type": "code",
      "source": [
        "# import torch\n",
        "# from lavis.models import load_model_and_preprocess\n",
        "# # loads BLIP-2 pre-trained model\n",
        "# model, vis_processors, _ = load_model_and_preprocess(name=\"blip2_t5\", model_type=\"pretrain_flant5xxl\", is_eval=True, device=device)\n",
        "# # prepare the image\n"
      ],
      "metadata": {
        "colab": {
          "base_uri": "https://localhost:8080/"
        },
        "id": "wVxQl_YzReFE",
        "outputId": "6e60e27a-5799-4b5b-85fa-732a23394481"
      },
      "execution_count": null,
      "outputs": [
        {
          "output_type": "stream",
          "name": "stderr",
          "text": [
            "/usr/local/lib/python3.10/dist-packages/huggingface_hub/file_download.py:1132: FutureWarning: `resume_download` is deprecated and will be removed in version 1.0.0. Downloads always resume when possible. If you want to force a new download, use `force_download=True`.\n",
            "  warnings.warn(\n",
            "/usr/local/lib/python3.10/dist-packages/huggingface_hub/utils/_token.py:89: UserWarning: \n",
            "The secret `HF_TOKEN` does not exist in your Colab secrets.\n",
            "To authenticate with the Hugging Face Hub, create a token in your settings tab (https://huggingface.co/settings/tokens), set it as secret in your Google Colab and restart your session.\n",
            "You will be able to reuse this secret in all of your notebooks.\n",
            "Please note that authentication is recommended but still optional to access public models or datasets.\n",
            "  warnings.warn(\n"
          ]
        }
      ]
    },
    {
      "cell_type": "code",
      "source": [
        "# we associate a model with its preprocessors to make it easier for inference.\n",
        "model, vis_processors, _ = load_model_and_preprocess(\n",
        "    name=\"blip_caption\", model_type=\"large_coco\", is_eval=True, device=device\n",
        ")\n",
        "# uncomment to use base model\n",
        "# model, vis_processors, _ = load_model_and_preprocess(\n",
        "#     name=\"blip_caption\", model_type=\"base_coco\", is_eval=True, device=device\n",
        "# )\n",
        "vis_processors.keys()"
      ],
      "metadata": {
        "colab": {
          "base_uri": "https://localhost:8080/",
          "height": 312,
          "referenced_widgets": [
            "836b7741bb6c4f03ae632f33be1ecae7",
            "f08e7b71c36e445798d6cb963d0a239c",
            "5e55c0144eae422eb1fc8aa6ef5c199c",
            "ada7fc3fa78a4e41a7a283a5924baeea",
            "b29641a35dba468e855eb06de9bfdd56",
            "11cf42392f504d1cb49ce281ab796ab5",
            "94943f66d84b40faa4145893b32b776c",
            "1fc493ae12dc4d05ba180c3f3af9180c",
            "b859532b3469490dae4c60fe61d2a959",
            "036ec8ece0174097b1e26f1eeb6700d7",
            "f5431bd6bcd14e63938c64b724aa75bb",
            "7f2a49fc6e99439f82d32fcc589af7bc",
            "aecdeb9b799c4ad8839d2bdcd5518b7e",
            "ce63f6e42b524a23a96ecd3de895ce3a",
            "94011880db83484f92f30a4f603d9f74",
            "b9401bf336a8430ab8f0ef8f30b90280",
            "85d129bac200422cb9cb8621052ae7d8",
            "47d7bed96c044687973092a8e564719f",
            "aacb204e7d82465b9dd442b84a471a96",
            "3dbb7760a69e4a709f6a6efaf6b5ecbb",
            "6fcd6abc412b4d268a3730e9d71eb30c",
            "ffab14a7e35e40dd88d89711d52c8ed4",
            "212b006857cb486585dd07dad2d1a7a8",
            "8771a15eed88444a920d8ccca6a53adf",
            "2265f34a3ad3440a8c4800514c903e1c",
            "e2ce79b99a6a465d8465bb7b3535c6d4",
            "752a37ff0d5d4ec396ae5a7ceff9b287",
            "4c0543031ba944168b7491cb8b8aa243",
            "2350274db69d43dfa092f52d0969336a",
            "946d9bf10a9046508a7398e32e079f49",
            "57567f1d294c4d3a87a4e39ab2668d72",
            "a222ae2737da44fcbd4b981d052e7bc8",
            "993ec007138c49ce9dad7eb34c9fc20c"
          ]
        },
        "id": "FiYl29_2YW2j",
        "outputId": "2032f89d-be7d-462d-8686-afc209f98482"
      },
      "execution_count": 3,
      "outputs": [
        {
          "output_type": "stream",
          "name": "stderr",
          "text": [
            "/usr/local/lib/python3.10/dist-packages/huggingface_hub/file_download.py:1132: FutureWarning: `resume_download` is deprecated and will be removed in version 1.0.0. Downloads always resume when possible. If you want to force a new download, use `force_download=True`.\n",
            "  warnings.warn(\n",
            "/usr/local/lib/python3.10/dist-packages/huggingface_hub/utils/_token.py:89: UserWarning: \n",
            "The secret `HF_TOKEN` does not exist in your Colab secrets.\n",
            "To authenticate with the Hugging Face Hub, create a token in your settings tab (https://huggingface.co/settings/tokens), set it as secret in your Google Colab and restart your session.\n",
            "You will be able to reuse this secret in all of your notebooks.\n",
            "Please note that authentication is recommended but still optional to access public models or datasets.\n",
            "  warnings.warn(\n"
          ]
        },
        {
          "output_type": "display_data",
          "data": {
            "text/plain": [
              "vocab.txt:   0%|          | 0.00/232k [00:00<?, ?B/s]"
            ],
            "application/vnd.jupyter.widget-view+json": {
              "version_major": 2,
              "version_minor": 0,
              "model_id": "836b7741bb6c4f03ae632f33be1ecae7"
            }
          },
          "metadata": {}
        },
        {
          "output_type": "display_data",
          "data": {
            "text/plain": [
              "tokenizer_config.json:   0%|          | 0.00/48.0 [00:00<?, ?B/s]"
            ],
            "application/vnd.jupyter.widget-view+json": {
              "version_major": 2,
              "version_minor": 0,
              "model_id": "7f2a49fc6e99439f82d32fcc589af7bc"
            }
          },
          "metadata": {}
        },
        {
          "output_type": "display_data",
          "data": {
            "text/plain": [
              "config.json:   0%|          | 0.00/570 [00:00<?, ?B/s]"
            ],
            "application/vnd.jupyter.widget-view+json": {
              "version_major": 2,
              "version_minor": 0,
              "model_id": "212b006857cb486585dd07dad2d1a7a8"
            }
          },
          "metadata": {}
        },
        {
          "output_type": "stream",
          "name": "stderr",
          "text": [
            "100%|██████████| 1.66G/1.66G [00:22<00:00, 81.1MB/s]\n"
          ]
        },
        {
          "output_type": "execute_result",
          "data": {
            "text/plain": [
              "dict_keys(['train', 'eval'])"
            ]
          },
          "metadata": {},
          "execution_count": 3
        }
      ]
    },
    {
      "cell_type": "code",
      "source": [
        "path = '/content/drive/MyDrive/Target_Images/23_July_News'\n",
        "os.chdir(path)\n",
        "image_files_23 = {}\n",
        "\n",
        "\n",
        "for website in os.listdir():\n",
        "    image_files_23[website] = [i for i in os.listdir(website) if not (i.endswith('.js') or i.endswith('.css') or i.endswith('.svg') or i.endswith('.gif'))]\n",
        "\n",
        "\n",
        "image_files_23.keys()\n"
      ],
      "metadata": {
        "colab": {
          "base_uri": "https://localhost:8080/"
        },
        "id": "RGns5_QlWRXA",
        "outputId": "a53c49d7-23fe-4602-d1be-b71b9cc8c598"
      },
      "execution_count": 6,
      "outputs": [
        {
          "output_type": "execute_result",
          "data": {
            "text/plain": [
              "dict_keys(['Daily Mail_23072024', 'BBC_23072024', 'Fox News_23072024', 'CNN_23072024', 'NY Times_23072024', 'Washington Post_23072024', 'Globo_23072024', 'The Guardian_23072024', 'NPR_23072024'])"
            ]
          },
          "metadata": {},
          "execution_count": 6
        }
      ]
    },
    {
      "cell_type": "code",
      "source": [
        "\n",
        "for key, img_list in image_files_23.items():\n",
        "    path = '/content/drive/MyDrive/Target_Images/23_July_News/' + key + '/'\n",
        "    print(f\"{key} {len(img_list)} images are to be processed\")\n",
        "\n",
        "    if key != 'BBC_23072024':\n",
        "        continue\n",
        "\n",
        "    with open('/content/drive/MyDrive/Caching/' + key + '.csv', 'w') as f:\n",
        "        f.write(\"Index,Image,Caption\\n\")\n",
        "\n",
        "    for idx, image_file in tqdm(enumerate(img_list), total=len(img_list), desc=f\"Processing {key}\"):\n",
        "        try:\n",
        "            # Open image\n",
        "            image = Image.open(path + image_file).convert('RGB')\n",
        "            image = vis_processors[\"eval\"](image).unsqueeze(0).to(device)\n",
        "            # Process image\n",
        "            #pixel_values = processor(images=image, return_tensors=\"pt\").pixel_values.to('cuda')\n",
        "\n",
        "            # Generate caption\n",
        "            #generated_ids = model.generate(pixel_values=pixel_values, max_length=50)\n",
        "            #generated_caption = processor.batch_decode(generated_ids, skip_special_tokens=True)[0]\n",
        "            generated_caption = model.generate({\"image\": image})\n",
        "\n",
        "            #add to result\n",
        "            print(f\"{idx + 1},{image_file},{generated_caption}\\n\")\n",
        "            with open('/content/drive/MyDrive/Caching/' + key + '.csv', 'a') as f:\n",
        "                f.write(f\"{idx + 1},{image_file},{generated_caption}\\n\")\n",
        "\n",
        "        except Exception as e:\n",
        "            with open('/content/drive/MyDrive/Caching/' + key + '.csv', 'a') as f:\n",
        "                f.write(f\"{idx + 1},{image_file},error processing image\\n\")\n",
        "            print(f\"Error processing {image_file}: {e}\")\n",
        "\n",
        "    print(f\"{key} {len(img_list)} images processed\")\n",
        "    print(\".....................................\")"
      ],
      "metadata": {
        "colab": {
          "base_uri": "https://localhost:8080/"
        },
        "id": "NYkMsPpUQnw1",
        "outputId": "e49f80d4-7b0c-4d60-fdc0-af2b459ec687"
      },
      "execution_count": 8,
      "outputs": [
        {
          "output_type": "stream",
          "name": "stdout",
          "text": [
            "Daily Mail_23072024 523 images are to be processed\n",
            "BBC_23072024 39 images are to be processed\n"
          ]
        },
        {
          "output_type": "stream",
          "name": "stderr",
          "text": [
            "Processing BBC_23072024:   3%|▎         | 1/39 [00:33<21:09, 33.42s/it]"
          ]
        },
        {
          "output_type": "stream",
          "name": "stdout",
          "text": [
            "1,0326d4b0-48bd-11ef-9e1c-3b4a473456a6.jpg.webp,['a woman standing at a podium in front of a crowd']\n",
            "\n"
          ]
        },
        {
          "output_type": "stream",
          "name": "stderr",
          "text": [
            "\rProcessing BBC_23072024:   5%|▌         | 2/39 [01:03<19:21, 31.38s/it]"
          ]
        },
        {
          "output_type": "stream",
          "name": "stdout",
          "text": [
            "2,p0jcz5sq.jpg.webp,['a group of women standing next to each other']\n",
            "\n"
          ]
        },
        {
          "output_type": "stream",
          "name": "stderr",
          "text": [
            "\rProcessing BBC_23072024:   8%|▊         | 3/39 [01:34<18:47, 31.32s/it]"
          ]
        },
        {
          "output_type": "stream",
          "name": "stdout",
          "text": [
            "3,68d9f420-48a6-11ef-b74c-bb483a802c97.jpg.webp,['a woman standing in front of a microphone']\n",
            "\n"
          ]
        },
        {
          "output_type": "stream",
          "name": "stderr",
          "text": [
            "\rProcessing BBC_23072024:  10%|█         | 4/39 [01:59<16:41, 28.61s/it]"
          ]
        },
        {
          "output_type": "stream",
          "name": "stdout",
          "text": [
            "4,p0jcydgs.jpg.webp,['a man in a suit playing a trumpet']\n",
            "\n"
          ]
        },
        {
          "output_type": "stream",
          "name": "stderr",
          "text": [
            "\rProcessing BBC_23072024:  13%|█▎        | 5/39 [02:26<15:54, 28.06s/it]"
          ]
        },
        {
          "output_type": "stream",
          "name": "stdout",
          "text": [
            "5,e5345030-4827-11ef-96a8-e710c6bfc866.jpg.webp,['a close up of two men hugging each other']\n",
            "\n"
          ]
        },
        {
          "output_type": "stream",
          "name": "stderr",
          "text": [
            "\rProcessing BBC_23072024:  15%|█▌        | 6/39 [03:17<19:41, 35.82s/it]"
          ]
        },
        {
          "output_type": "stream",
          "name": "stdout",
          "text": [
            "6,04c58b60-48cf-11ef-99ed-67d4618c723e.jpg.webp,['a group of people walking down a sidewalk']\n",
            "\n"
          ]
        },
        {
          "output_type": "stream",
          "name": "stderr",
          "text": [
            "\rProcessing BBC_23072024:  18%|█▊        | 7/39 [03:46<17:57, 33.67s/it]"
          ]
        },
        {
          "output_type": "stream",
          "name": "stdout",
          "text": [
            "7,fe4dbb10-48cc-11ef-9e1c-3b4a473456a6.jpg.webp,['a woman is holding a circuit board in her hand']\n",
            "\n"
          ]
        },
        {
          "output_type": "stream",
          "name": "stderr",
          "text": [
            "\rProcessing BBC_23072024:  21%|██        | 8/39 [04:13<16:21, 31.65s/it]"
          ]
        },
        {
          "output_type": "stream",
          "name": "stdout",
          "text": [
            "8,976be5d0-48c6-11ef-8959-b3ec3b0bdfcd.jpg.webp,['a group of three men standing next to each other']\n",
            "\n"
          ]
        },
        {
          "output_type": "stream",
          "name": "stderr",
          "text": [
            "\rProcessing BBC_23072024:  23%|██▎       | 9/39 [04:41<15:14, 30.50s/it]"
          ]
        },
        {
          "output_type": "stream",
          "name": "stdout",
          "text": [
            "9,fbb8b820-48a7-11ef-806b-adaabf2803a5.jpg.webp,['a woman in a white shirt speaking into a microphone']\n",
            "\n"
          ]
        },
        {
          "output_type": "stream",
          "name": "stderr",
          "text": [
            "\rProcessing BBC_23072024:  26%|██▌       | 10/39 [05:21<16:12, 33.54s/it]"
          ]
        },
        {
          "output_type": "stream",
          "name": "stdout",
          "text": [
            "10,a2cb0130-4863-11ef-9e1c-3b4a473456a6.jpg.webp,['a close up of the olympic rings on top of the eiffel tower']\n",
            "\n"
          ]
        },
        {
          "output_type": "stream",
          "name": "stderr",
          "text": [
            "\rProcessing BBC_23072024:  28%|██▊       | 11/39 [05:50<14:59, 32.12s/it]"
          ]
        },
        {
          "output_type": "stream",
          "name": "stdout",
          "text": [
            "11,p0jd20ty.jpg.webp,['a view of a courtyard with a building in the background']\n",
            "\n"
          ]
        },
        {
          "output_type": "stream",
          "name": "stderr",
          "text": [
            "\rProcessing BBC_23072024:  31%|███       | 12/39 [06:23<14:34, 32.37s/it]"
          ]
        },
        {
          "output_type": "stream",
          "name": "stdout",
          "text": [
            "12,4dd56800-4836-11ef-96a8-e710c6bfc866.jpg.webp,['a man in a suit and tie speaking into a microphone']\n",
            "\n"
          ]
        },
        {
          "output_type": "stream",
          "name": "stderr",
          "text": [
            "\rProcessing BBC_23072024:  33%|███▎      | 13/39 [06:49<13:12, 30.47s/it]"
          ]
        },
        {
          "output_type": "stream",
          "name": "stdout",
          "text": [
            "13,4ec4b750-48b5-11ef-a1c2-097f0d35f879.jpg.webp,['a bird is standing on a rock near the water']\n",
            "\n"
          ]
        },
        {
          "output_type": "stream",
          "name": "stderr",
          "text": [
            "\rProcessing BBC_23072024:  36%|███▌      | 14/39 [07:18<12:27, 29.90s/it]"
          ]
        },
        {
          "output_type": "stream",
          "name": "stdout",
          "text": [
            "14,1dde5150-4874-11ef-b74c-bb483a802c97.jpg.webp,['a woman talking on a cell phone in a park']\n",
            "\n"
          ]
        },
        {
          "output_type": "stream",
          "name": "stderr",
          "text": [
            "\rProcessing BBC_23072024:  38%|███▊      | 15/39 [07:51<12:17, 30.74s/it]"
          ]
        },
        {
          "output_type": "stream",
          "name": "stdout",
          "text": [
            "15,5d6dff00-482e-11ef-9e1c-3b4a473456a6.jpg.webp,['a helicopter is parked on the ground with other helicopters in the background']\n",
            "\n"
          ]
        },
        {
          "output_type": "stream",
          "name": "stderr",
          "text": [
            "\rProcessing BBC_23072024:  41%|████      | 16/39 [08:21<11:41, 30.50s/it]"
          ]
        },
        {
          "output_type": "stream",
          "name": "stdout",
          "text": [
            "16,cd687d10-4808-11ef-b74c-bb483a802c97.jpg.webp,['a man giving a speech at a podium']\n",
            "\n"
          ]
        },
        {
          "output_type": "stream",
          "name": "stderr",
          "text": [
            "\rProcessing BBC_23072024:  44%|████▎     | 17/39 [08:50<11:04, 30.22s/it]"
          ]
        },
        {
          "output_type": "stream",
          "name": "stdout",
          "text": [
            "17,cdaf5060-48d4-11ef-b74c-bb483a802c97.png.webp,['a man with a beard sitting down']\n",
            "\n"
          ]
        },
        {
          "output_type": "stream",
          "name": "stderr",
          "text": [
            "\rProcessing BBC_23072024:  46%|████▌     | 18/39 [09:20<10:30, 30.00s/it]"
          ]
        },
        {
          "output_type": "stream",
          "name": "stdout",
          "text": [
            "18,p0jchx33.jpg.webp,['a view of a rocky area with trees and rocks']\n",
            "\n"
          ]
        },
        {
          "output_type": "stream",
          "name": "stderr",
          "text": [
            "\rProcessing BBC_23072024:  49%|████▊     | 19/39 [09:57<10:45, 32.29s/it]"
          ]
        },
        {
          "output_type": "stream",
          "name": "stdout",
          "text": [
            "19,0560ada0-4845-11ef-b74c-bb483a802c97.jpg.webp,['a woman standing at a podium in front of a crowd']\n",
            "\n"
          ]
        },
        {
          "output_type": "stream",
          "name": "stderr",
          "text": [
            "\rProcessing BBC_23072024:  51%|█████▏    | 20/39 [10:26<09:55, 31.33s/it]"
          ]
        },
        {
          "output_type": "stream",
          "name": "stdout",
          "text": [
            "20,00b226b0-47b6-11ef-b74c-bb483a802c97.jpg.webp,['a woman with glasses standing on the side of a street']\n",
            "\n"
          ]
        },
        {
          "output_type": "stream",
          "name": "stderr",
          "text": [
            "\rProcessing BBC_23072024:  54%|█████▍    | 21/39 [10:54<09:06, 30.34s/it]"
          ]
        },
        {
          "output_type": "stream",
          "name": "stdout",
          "text": [
            "21,cd7fcd00-48b5-11ef-a1c2-097f0d35f879.jpg.webp,['a man and a young man are looking at something']\n",
            "\n"
          ]
        },
        {
          "output_type": "stream",
          "name": "stderr",
          "text": [
            "\rProcessing BBC_23072024:  56%|█████▋    | 22/39 [11:24<08:32, 30.15s/it]"
          ]
        },
        {
          "output_type": "stream",
          "name": "stdout",
          "text": [
            "22,c4ea6a20-4882-11ef-8457-9d0b44a6ddb3.jpg.webp,['a woman in a graduation gown holding a baby']\n",
            "\n"
          ]
        },
        {
          "output_type": "stream",
          "name": "stderr",
          "text": [
            "\rProcessing BBC_23072024:  59%|█████▉    | 23/39 [11:52<07:51, 29.47s/it]"
          ]
        },
        {
          "output_type": "stream",
          "name": "stdout",
          "text": [
            "23,b121fc00-45e0-11ef-9e1c-3b4a473456a6.jpg.webp,['three women sitting next to each other on a bench']\n",
            "\n"
          ]
        },
        {
          "output_type": "stream",
          "name": "stderr",
          "text": [
            "\rProcessing BBC_23072024:  62%|██████▏   | 24/39 [12:16<06:57, 27.84s/it]"
          ]
        },
        {
          "output_type": "stream",
          "name": "stdout",
          "text": [
            "24,6e37c680-4456-11ef-8b31-9dc28c2e0724.png.webp,['a group of men running in a race']\n",
            "\n"
          ]
        },
        {
          "output_type": "stream",
          "name": "stderr",
          "text": [
            "\rProcessing BBC_23072024:  64%|██████▍   | 25/39 [12:46<06:38, 28.44s/it]"
          ]
        },
        {
          "output_type": "stream",
          "name": "stdout",
          "text": [
            "25,ab4d4d40-48c2-11ef-8959-b3ec3b0bdfcd.jpg.webp,['a building with a sign that says westminster magistrates court']\n",
            "\n"
          ]
        },
        {
          "output_type": "stream",
          "name": "stderr",
          "text": [
            "\rProcessing BBC_23072024:  67%|██████▋   | 26/39 [13:11<05:56, 27.40s/it]"
          ]
        },
        {
          "output_type": "stream",
          "name": "stdout",
          "text": [
            "26,33d0fc70-4837-11ef-8286-a5f3613185c4.jpg.webp,['a man sitting in front of a computer monitor']\n",
            "\n"
          ]
        },
        {
          "output_type": "stream",
          "name": "stderr",
          "text": [
            "\rProcessing BBC_23072024:  69%|██████▉   | 27/39 [13:49<06:09, 30.77s/it]"
          ]
        },
        {
          "output_type": "stream",
          "name": "stdout",
          "text": [
            "27,p0jchx86.jpg.webp,['a large body of water with a small island in the middle of it']\n",
            "\n"
          ]
        },
        {
          "output_type": "stream",
          "name": "stderr",
          "text": [
            "\rProcessing BBC_23072024:  72%|███████▏  | 28/39 [14:25<05:54, 32.21s/it]"
          ]
        },
        {
          "output_type": "stream",
          "name": "stdout",
          "text": [
            "28,11f9d0d0-47fc-11ef-a7d7-5b45cff4e3d7.jpg.webp,['a row of blue and yellow planes sitting on top of an airport tarmac']\n",
            "\n"
          ]
        },
        {
          "output_type": "stream",
          "name": "stderr",
          "text": [
            "\rProcessing BBC_23072024:  74%|███████▍  | 29/39 [14:54<05:13, 31.33s/it]"
          ]
        },
        {
          "output_type": "stream",
          "name": "stdout",
          "text": [
            "29,p0jc685v.jpg.webp,['a group of boats floating in a body of water']\n",
            "\n"
          ]
        },
        {
          "output_type": "stream",
          "name": "stderr",
          "text": [
            "\rProcessing BBC_23072024:  77%|███████▋  | 30/39 [15:24<04:36, 30.75s/it]"
          ]
        },
        {
          "output_type": "stream",
          "name": "stdout",
          "text": [
            "30,p0jcf831.jpg.webp,['a woman in a white bikini posing for a picture']\n",
            "\n"
          ]
        },
        {
          "output_type": "stream",
          "name": "stderr",
          "text": [
            "\rProcessing BBC_23072024:  79%|███████▉  | 31/39 [15:51<03:57, 29.71s/it]"
          ]
        },
        {
          "output_type": "stream",
          "name": "stdout",
          "text": [
            "31,p0j53vjd.jpg.webp,['a woman is doing a trick in the air']\n",
            "\n"
          ]
        },
        {
          "output_type": "stream",
          "name": "stderr",
          "text": [
            "\rProcessing BBC_23072024:  82%|████████▏ | 32/39 [16:17<03:19, 28.56s/it]"
          ]
        },
        {
          "output_type": "stream",
          "name": "stdout",
          "text": [
            "32,p0h74xqg.jpg.webp,['the white house with stars on a colorful background']\n",
            "\n"
          ]
        },
        {
          "output_type": "stream",
          "name": "stderr",
          "text": [
            "\rProcessing BBC_23072024:  85%|████████▍ | 33/39 [16:45<02:51, 28.50s/it]"
          ]
        },
        {
          "output_type": "stream",
          "name": "stdout",
          "text": [
            "33,p0h74xp9.jpg.webp,['a hammock with a cell phone in it']\n",
            "\n"
          ]
        },
        {
          "output_type": "stream",
          "name": "stderr",
          "text": [
            "\rProcessing BBC_23072024:  87%|████████▋ | 34/39 [17:19<02:30, 30.19s/it]"
          ]
        },
        {
          "output_type": "stream",
          "name": "stdout",
          "text": [
            "34,grey-placeholder.png,['a group of people standing on top of a snow covered slope']\n",
            "\n"
          ]
        },
        {
          "output_type": "stream",
          "name": "stderr",
          "text": [
            "\rProcessing BBC_23072024:  90%|████████▉ | 35/39 [17:46<01:56, 29.17s/it]"
          ]
        },
        {
          "output_type": "stream",
          "name": "stdout",
          "text": [
            "35,p0jchp6h.jpg.webp,['a jar of honey with a cloth on top']\n",
            "\n"
          ]
        },
        {
          "output_type": "stream",
          "name": "stderr",
          "text": [
            "\rProcessing BBC_23072024:  92%|█████████▏| 36/39 [18:16<01:28, 29.36s/it]"
          ]
        },
        {
          "output_type": "stream",
          "name": "stdout",
          "text": [
            "36,p0hzj391.jpg.webp,['a white plate topped with meat and lettuce']\n",
            "\n"
          ]
        },
        {
          "output_type": "stream",
          "name": "stderr",
          "text": [
            "\rProcessing BBC_23072024:  95%|█████████▍| 37/39 [18:43<00:57, 28.74s/it]"
          ]
        },
        {
          "output_type": "stream",
          "name": "stdout",
          "text": [
            "37,p0jbv23y.jpg.webp,['a close up of a black bear in a forest']\n",
            "\n"
          ]
        },
        {
          "output_type": "stream",
          "name": "stderr",
          "text": [
            "Processing BBC_23072024: 100%|██████████| 39/39 [19:12<00:00, 29.55s/it]"
          ]
        },
        {
          "output_type": "stream",
          "name": "stdout",
          "text": [
            "38,p0j9bt66.jpg.webp,['a view of a town with a mountain in the background']\n",
            "\n",
            "Error processing BBC_23072024.csv: cannot identify image file '/content/drive/MyDrive/Target_Images/23_July_News/BBC_23072024/BBC_23072024.csv'\n",
            "BBC_23072024 39 images processed\n",
            ".....................................\n",
            "Fox News_23072024 23 images are to be processed\n",
            "CNN_23072024 38 images are to be processed\n",
            "NY Times_23072024 57 images are to be processed\n",
            "Washington Post_23072024 23 images are to be processed\n",
            "Globo_23072024 44 images are to be processed\n",
            "The Guardian_23072024 78 images are to be processed\n",
            "NPR_23072024 58 images are to be processed\n"
          ]
        },
        {
          "output_type": "stream",
          "name": "stderr",
          "text": [
            "\n"
          ]
        }
      ]
    },
    {
      "cell_type": "code",
      "source": [
        "from PIL import Image\n",
        "from IPython.display import display, HTML\n",
        "\n",
        "#display(HTML(\"<h2>Image Caption</h2><br>\"))\n",
        "results = pd.read_csv('/content/drive/MyDrive/Caching/BBC_23072024.csv')\n",
        "results.columns = ['index','image','description']\n",
        "results.head()\n",
        "display(HTML(f\"<p>{results['description'][10]}</p>\"))\n",
        "display(Image.open(f\"/content/drive/MyDrive/Target_Images/23_July_News/BBC_23072024/{results['image'][10]}\"))\n",
        "\n"
      ],
      "metadata": {
        "colab": {
          "base_uri": "https://localhost:8080/",
          "height": 316
        },
        "id": "dGrtwn_ybiv4",
        "outputId": "824479ad-4be1-4041-b89c-f5a5e89439f9"
      },
      "execution_count": 11,
      "outputs": [
        {
          "output_type": "display_data",
          "data": {
            "text/plain": [
              "<IPython.core.display.HTML object>"
            ],
            "text/html": [
              "<p>['a man in a suit and tie speaking into a microphone']</p>"
            ]
          },
          "metadata": {}
        },
        {
          "output_type": "display_data",
          "data": {
            "text/plain": [
              "<PIL.WebPImagePlugin.WebPImageFile image mode=RGB size=480x270>"
            ],
            "image/png": "[encoded data removed]"
          },
          "metadata": {}
        }
      ]
    },
    {
      "cell_type": "code",
      "source": [
        "# model.generate({\"image\": image, \"prompt\": \"Question: which city is this? Answer:\"})\n",
        "# # 'singapore'\n",
        "# model.generate({\n",
        "#     \"image\": image,\n",
        "#     \"prompt\": \"Question: which city is this? Answer: singapore. Question: why?\"})\n",
        "# # 'it has a statue of a merlion'\n",
        "# # prepare context prompt\n",
        "# context = [\n",
        "#     (\"which city is this?\", \"singapore\"),\n",
        "#     (\"why?\", \"it has a statue of a merlion\"),\n",
        "# ]\n",
        "# question = \"where is the name merlion coming from?\"\n",
        "# template = \"Question: {} Answer: {}.\"\n",
        "# prompt = \" \".join([template.format(context[i][0], context[i][1]) for i in range(len(context))]) + \" Question: \" + question + \" Answer:\"\n",
        "# print(prompt)\n",
        "# # generate model's response\n",
        "# model.generate({\"image\": image,\"prompt\": prompt})\n",
        "# # 'merlion is a portmanteau of mermaid and lion'"
      ],
      "metadata": {
        "id": "ihJPrLtXP5L9"
      },
      "execution_count": null,
      "outputs": []
    }
  ]
}