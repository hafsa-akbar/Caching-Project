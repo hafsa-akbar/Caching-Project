{
 "cells": [
  {
   "cell_type": "code",
   "execution_count": 6,
   "metadata": {},
   "outputs": [],
   "source": [
    "import os\n",
    "import pandas as pd"
   ]
  },
  {
   "cell_type": "code",
   "execution_count": 3,
   "metadata": {},
   "outputs": [],
   "source": [
    "def split_image_number(image_number):\n",
    "    image_number = image_number.replace('.jpg', '')  # Remove '.jpg'\n",
    "    parts = image_number.split('_')\n",
    "    return int(parts[1]), int(parts[2])\n",
    "\n",
    "def process_csv(csv_path):\n",
    "    df = pd.read_csv(csv_path)\n",
    "\n",
    "    df['article number'], df['image_number'] = zip(*df['image number'].apply(split_image_number))\n",
    "\n",
    "    df = df.drop(columns=['image number'])\n",
    "    df.rename(columns={'image_number': 'image number'}, inplace=True)\n",
    "\n",
    "    columns_order = ['article number', 'image number'] + [col for col in df.columns if col not in ['article number', 'image number']]\n",
    "    df = df[columns_order]\n",
    "    df.to_csv(csv_path, index=False)"
   ]
  },
  {
   "cell_type": "code",
   "execution_count": 7,
   "metadata": {},
   "outputs": [],
   "source": [
    "def process_csv(csv_path):\n",
    "    df = pd.read_csv(csv_path)\n",
    "\n",
    "    df.rename(columns={'image_number': 'image number'}, inplace=True)\n",
    "    df.to_csv(csv_path, index=False)"
   ]
  },
  {
   "cell_type": "code",
   "execution_count": 9,
   "metadata": {},
   "outputs": [],
   "source": [
    "def process_all_csvs(base_dir='test'):\n",
    "    for website_folder in os.listdir(base_dir):\n",
    "        website_path = os.path.join(base_dir, website_folder)\n",
    "        if os.path.isdir(website_path):\n",
    "            for category_folder in os.listdir(website_path):\n",
    "                category_path = os.path.join(website_path, category_folder)\n",
    "                if os.path.isdir(category_path):\n",
    "                    for file in os.listdir(category_path):\n",
    "                        if file.endswith('.csv'):\n",
    "                            csv_path = os.path.join(category_path, file)\n",
    "                            process_csv(csv_path)\n",
    "\n",
    "process_all_csvs('test')"
   ]
  }
 ],
 "metadata": {
  "kernelspec": {
   "display_name": "Python 3",
   "language": "python",
   "name": "python3"
  },
  "language_info": {
   "codemirror_mode": {
    "name": "ipython",
    "version": 3
   },
   "file_extension": ".py",
   "mimetype": "text/x-python",
   "name": "python",
   "nbconvert_exporter": "python",
   "pygments_lexer": "ipython3",
   "version": "3.12.1"
  }
 },
 "nbformat": 4,
 "nbformat_minor": 2
}
